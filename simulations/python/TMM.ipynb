{
 "cells": [
  {
   "cell_type": "code",
   "execution_count": 16,
   "metadata": {},
   "outputs": [],
   "source": [
    "import os\n",
    "import imp\n",
    "import matplotlib.pyplot as plt\n",
    "import numpy as np\n",
    "import math\n",
    "import pandas as pd\n",
    "import sys\n",
    "import pickle\n",
    "import matplotlib.ticker as plticker\n",
    "from scipy.signal import find_peaks\n",
    "\n",
    "plt.rcParams[\"figure.figsize\"] = (15,7)\n",
    "from numpy.lib.scimath import sqrt as csqrt\n",
    "\n",
    "#os.add_dll_directory('C:\\\\Program Files\\\\Lumerical\\\\v202\\\\api\\\\python\\\\')\n",
    "#lumapi = imp.load_source('lumapi','C:\\\\Program Files\\\\Lumerical\\\\v202\\\\api\\\\python\\\\lumapi.py') \n",
    "\n",
    "sys.path.append(\"/opt/lumerical/v221/api/python\") #Default linux lumapi path\n",
    "import lumapi\n",
    "sys.path.append(os.path.dirname('/media/lucas/datam01/LucasLobo/BRAG-GRATINGS/simulations/python')) #Current directory\n",
    "\n",
    "from jupyterthemes import jtplot\n",
    "\n",
    "jtplot.style(theme='onedork', context='notebook', ticks=True, grid=True)\n",
    "plt.rcParams[\"figure.figsize\"] = (15,7)\n",
    "\n",
    "\n",
    "\n",
    "def propagationmatrix(comprimento,neff,L): \n",
    "    #Comprimento = array comprimento de onda\n",
    "    #neff = array neff em função do comprimento de onda\n",
    "    #L = comprimento da seção uniforme da grade\n",
    "\n",
    "    beta = 2*np.pi*np.divide(neff,comprimento)\n",
    "    Tp = np.zeros([len(comprimento),2,2],dtype = 'complex_')\n",
    "    Tp[:,0,0] = np.exp(1j*beta*L)\n",
    "    Tp[:,1,1] = np.exp(-1j*beta*L)\n",
    "    return Tp\n",
    "\n",
    "def stepmatrix(n1,n2):\n",
    "    #n1 = neff da grade de saída\n",
    "    #n2 = neff da grade de entrada\n",
    "    \n",
    "    Ts = np.zeros([len(n1),2,2],dtype = 'complex_')\n",
    "    Ts[:,0,0] = np.divide((n1+n2),(2*np.sqrt(np.multiply(n1+n2))))\n",
    "    Ts[:,1,1] = np.divide((n1+n2),(2*np.sqrt(np.multiply(n1+n2))))\n",
    "    Ts[:,0,1] = np.divide((n1-n2),(2*np.sqrt(np.multiply(n1+n2))))\n",
    "    Ts[:,1,0] = np.divide((n1-n2),(2*np.sqrt(np.multiply(n1+n2))))\n",
    "    return Ts\n",
    "\n",
    "def TMM(comprimento,periodo,numerodegrades,n1,n2):\n",
    "    #comprimento = array comprimento de onda\n",
    "    #periodo = comprimento de bragg\n",
    "    #numerodegrades = numero de periodos\n",
    "    #n1 = neff da primeira parte da grade\n",
    "    #n2 = neff da segunda parte da grade\n",
    "    \n",
    "    Tp1 = propagationmatrix(comprimento,n1,periodo/2)\n",
    "    T12 = stepmatrix(n1,n2)\n",
    "    Tp2 = propagationmatrix(comprimento,n2,periodo/2)\n",
    "    T21 = stepmatrix(n2,n1)\n",
    "    T = np.zeros([len(comprimento),2,2])\n",
    "    Tmm = np.zeros([len(comprimento),2,2])\n",
    "    for i in comprimento:\n",
    "        T = Tp1[i,:,:]*T12[i,:,:]*Tp2[i,:,:]*T21[i,:,:]\n",
    "    Tmm = T^numerodegrades\n",
    "    return Tmm    "
   ]
  },
  {
   "cell_type": "code",
   "execution_count": 18,
   "metadata": {},
   "outputs": [
    {
     "name": "stdout",
     "output_type": "stream",
     "text": [
      "[[[0.98109052+0.19354947j 0.        +0.j        ]\n",
      "  [0.        +0.j         0.98109052-0.19354947j]]\n",
      "\n",
      " [[0.99102991+0.13364026j 0.        +0.j        ]\n",
      "  [0.        +0.j         0.99102991-0.13364026j]]\n",
      "\n",
      " [[0.99463081+0.10348695j 0.        +0.j        ]\n",
      "  [0.        +0.j         0.99463081-0.10348695j]]]\n",
      "[1.76068169 1.78885438 1.81659021]\n"
     ]
    }
   ],
   "source": [
    "comprimento = [1000*1e-9,1500*1e-9,2000*1e-9]\n",
    "neff = [3.1,3.2,3.3]\n",
    "L = 10e-9\n",
    "print(matrixHW(comprimento,neff,L))\n",
    "print(np.sqrt(neff))"
   ]
  },
  {
   "cell_type": "code",
   "execution_count": null,
   "metadata": {},
   "outputs": [],
   "source": []
  }
 ],
 "metadata": {
  "kernelspec": {
   "display_name": "Python 3.9.12 ('base')",
   "language": "python",
   "name": "python3"
  },
  "language_info": {
   "codemirror_mode": {
    "name": "ipython",
    "version": 3
   },
   "file_extension": ".py",
   "mimetype": "text/x-python",
   "name": "python",
   "nbconvert_exporter": "python",
   "pygments_lexer": "ipython3",
   "version": "3.9.12"
  },
  "orig_nbformat": 4,
  "vscode": {
   "interpreter": {
    "hash": "112989f40982219f9c2133127490be09f86560db102a13a350eb86b01002b443"
   }
  }
 },
 "nbformat": 4,
 "nbformat_minor": 2
}
